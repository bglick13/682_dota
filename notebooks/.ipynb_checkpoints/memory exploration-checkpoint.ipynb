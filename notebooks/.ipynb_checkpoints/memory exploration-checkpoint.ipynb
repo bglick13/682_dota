{
 "cells": [
  {
   "cell_type": "code",
   "execution_count": 112,
   "metadata": {},
   "outputs": [],
   "source": [
    "import numpy as np\n",
    "import pandas as pd\n",
    "import pickle\n",
    "import matplotlib.pyplot as plt\n",
    "import os, sys\n",
    "import seaborn as sns\n",
    "import multiprocessing\n",
    "%matplotlib inline"
   ]
  },
  {
   "cell_type": "code",
   "execution_count": 93,
   "metadata": {},
   "outputs": [],
   "source": [
    "pd.set_option('display.max_rows', 200)"
   ]
  },
  {
   "cell_type": "code",
   "execution_count": 94,
   "metadata": {},
   "outputs": [],
   "source": [
    "os.getcwd()\n",
    "os.chdir('C:\\\\Users\\\\Ben\\\\Documents\\\\682_project')"
   ]
  },
  {
   "cell_type": "code",
   "execution_count": 131,
   "metadata": {},
   "outputs": [],
   "source": [
    "def plot_random_win_rates():\n",
    "    with open('data/self_play/random_vs_random_memory.pickle', 'rb') as f:\n",
    "        mem = pickle.load(f)\n",
    "    \n",
    "    random_wins = []\n",
    "    for m in mem:\n",
    "        random_wins.append(m[2][0])\n",
    "    random_wins = np.array(random_wins)\n",
    "    random_wins = random_wins[random_wins != None]\n",
    "    \n",
    "    fig, ax = plt.subplots()\n",
    "    sns.countplot(random_wins, ax=ax);\n",
    "    ax.set(xticks=[0, 1], xticklabels=['Radiant Victory', 'Dire Victory']);\n",
    "    plt.title('Baseline: Random Vs. Random');"
   ]
  },
  {
   "cell_type": "code",
   "execution_count": 175,
   "metadata": {},
   "outputs": [],
   "source": [
    "def plot_captains_mode_win_rates():\n",
    "    with open('data/self_play/captains_mode_vs_random_memory_2.pickle', 'rb') as f:\n",
    "        mem = pickle.load(f)\n",
    "    all_outcomes = []\n",
    "    all_agent_pick_first = []\n",
    "    all_ids = []\n",
    "    for id,m in enumerate(mem):\n",
    "        v = m['all_values']\n",
    "        for i in range(23 - len(v)):\n",
    "            v.append(v[0])\n",
    "        all_outcomes.extend(v)\n",
    "        p = m['all_agent_pick_first']\n",
    "        for i in range(23 - len(p)):\n",
    "            p.append(p[0])\n",
    "        all_agent_pick_first.extend(p)\n",
    "        all_ids.extend([id]*23)\n",
    "    all_outcomes = np.array(all_outcomes)\n",
    "    missing = all_outcomes >= 0\n",
    "    all_outcomes = all_outcomes[missing]\n",
    "    all_agent_pick_first = np.array(all_agent_pick_first)\n",
    "    all_agent_pick_first = all_agent_pick_first[missing]\n",
    "    all_ids = np.array(all_ids)\n",
    "    all_ids = all_ids[missing]\n",
    "    df = pd.DataFrame(dict(id=all_ids, outcome=all_outcomes, pick_first=all_agent_pick_first))\n",
    "    df['agent_win'] = df['outcome'] == df['pick_first']\n",
    "    sns.countplot(x='agent_win', data=df.groupby('id').head(1))\n",
    "    plt.title('Pre-trained on Both Datasets Vs. Random')"
   ]
  },
  {
   "cell_type": "code",
   "execution_count": 210,
   "metadata": {},
   "outputs": [],
   "source": [
    "def plot_allpick_win_rates():\n",
    "    with open('data/self_play/allpick_vs_random_memory.pickle', 'rb') as f:\n",
    "        mem = pickle.load(f)\n",
    "    all_outcomes = []\n",
    "    all_agent_pick_first = []\n",
    "    all_ids = []\n",
    "    for id, m in enumerate(mem):\n",
    "        v = m['all_values']\n",
    "        for i in range(23 - len(v)):\n",
    "            v.append(v[0])\n",
    "        all_outcomes.extend(v)\n",
    "        p = m['all_agent_pick_first']\n",
    "        for i in range(23 - len(p)):\n",
    "            p.append(p[0])\n",
    "        all_agent_pick_first.extend(p)\n",
    "        all_ids.extend([id]*23)\n",
    "    all_outcomes = np.array(all_outcomes)\n",
    "    missing = all_outcomes != None\n",
    "    all_outcomes = all_outcomes[missing]\n",
    "    all_agent_pick_first = np.array(all_agent_pick_first)\n",
    "    all_agent_pick_first = all_agent_pick_first[missing]\n",
    "    all_ids = np.array(all_ids)\n",
    "    all_ids = all_ids[missing]\n",
    "    df = pd.DataFrame(dict(id=all_ids, outcome=all_outcomes, pick_first=all_agent_pick_first))\n",
    "    df['agent_win'] = df['outcome'] == df['pick_first']\n",
    "    print(df)\n",
    "    sns.countplot(x='agent_win', data=df.groupby('id').head(1))\n",
    "    plt.title('Pre-trained on All Pick Dataset Vs. Random')"
   ]
  },
  {
   "cell_type": "code",
   "execution_count": 215,
   "metadata": {},
   "outputs": [],
   "source": [
    "def plot_compared_win_rates():\n",
    "    with open('data/self_play/random_vs_random_memory.pickle', 'rb') as f:\n",
    "        mem = pickle.load(f)\n",
    "    \n",
    "    random_wins = []\n",
    "    for m in mem:\n",
    "        random_wins.append(m[2][0])\n",
    "    random_wins = np.array(random_wins)\n",
    "    random_wins = random_wins[random_wins != None]\n",
    "    random_winrate = np.mean(random_wins)\n",
    "    \n",
    "    with open('data/self_play/captains_mode_vs_random_memory_2.pickle', 'rb') as f:\n",
    "        mem = pickle.load(f)\n",
    "    all_outcomes = []\n",
    "    all_agent_pick_first = []\n",
    "    all_ids = []\n",
    "    for id,m in enumerate(mem):\n",
    "        v = m['all_values']\n",
    "        for i in range(23 - len(v)):\n",
    "            v.append(v[0])\n",
    "        all_outcomes.extend(v)\n",
    "        p = m['all_agent_pick_first']\n",
    "        for i in range(23 - len(p)):\n",
    "            p.append(p[0])\n",
    "        all_agent_pick_first.extend(p)\n",
    "        all_ids.extend([id]*23)\n",
    "    all_outcomes = np.array(all_outcomes)\n",
    "    missing = all_outcomes >= 0\n",
    "    all_outcomes = all_outcomes[missing]\n",
    "    all_agent_pick_first = np.array(all_agent_pick_first)\n",
    "    all_agent_pick_first = all_agent_pick_first[missing]\n",
    "    all_ids = np.array(all_ids)\n",
    "    all_ids = all_ids[missing]\n",
    "    df = pd.DataFrame(dict(id=all_ids, outcome=all_outcomes, pick_first=all_agent_pick_first))\n",
    "    df['agent_win'] = df['outcome'] == df['pick_first']\n",
    "    cm_winrate = df['agent_win'].mean()\n",
    "    \n",
    "    with open('data/self_play/allpick_vs_random_memory.pickle', 'rb') as f:\n",
    "        mem = pickle.load(f)\n",
    "    all_outcomes = []\n",
    "    all_agent_pick_first = []\n",
    "    all_ids = []\n",
    "    for id, m in enumerate(mem):\n",
    "        v = m['all_values']\n",
    "        for i in range(23 - len(v)):\n",
    "            v.append(v[0])\n",
    "        all_outcomes.extend(v)\n",
    "        p = m['all_agent_pick_first']\n",
    "        for i in range(23 - len(p)):\n",
    "            p.append(p[0])\n",
    "        all_agent_pick_first.extend(p)\n",
    "        all_ids.extend([id]*23)\n",
    "    all_outcomes = np.array(all_outcomes)\n",
    "    missing = all_outcomes != None\n",
    "    all_outcomes = all_outcomes[missing]\n",
    "    all_agent_pick_first = np.array(all_agent_pick_first)\n",
    "    all_agent_pick_first = all_agent_pick_first[missing]\n",
    "    all_ids = np.array(all_ids)\n",
    "    all_ids = all_ids[missing]\n",
    "    df = pd.DataFrame(dict(id=all_ids, outcome=all_outcomes, pick_first=all_agent_pick_first))\n",
    "    df['agent_win'] = df['outcome'] == df['pick_first']\n",
    "    ap_winrate = df['agent_win'].mean()\n",
    "    \n",
    "    fig, ax = plt.subplots()\n",
    "    xs = range(3)\n",
    "    ys = [random_winrate, ap_winrate, cm_winrate]\n",
    "    ax.scatter(xs, ys)\n",
    "    ax.set(xticks=xs, xticklabels=['Random', 'All Pick', 'Captains Mode + All Pick']);\n",
    "    plt.title('Win Rates vs Random Drafting Agent')\n",
    "    plt.ylabel('Win Rate')\n",
    "    plt.xlabel('Agent Type')"
   ]
  },
  {
   "cell_type": "code",
   "execution_count": 216,
   "metadata": {},
   "outputs": [
    {
     "data": {
      "image/png": "[encoded data removed]",
      "text/plain": [
       "<Figure size 432x288 with 1 Axes>"
      ]
     },
     "metadata": {
      "needs_background": "light"
     },
     "output_type": "display_data"
    }
   ],
   "source": [
    "plot_compared_win_rates()"
   ]
  },
  {
   "cell_type": "code",
   "execution_count": 212,
   "metadata": {},
   "outputs": [
    {
     "data": {
      "image/png": "[encoded data removed]",
      "text/plain": [
       "<Figure size 432x288 with 1 Axes>"
      ]
     },
     "metadata": {
      "needs_background": "light"
     },
     "output_type": "display_data"
    }
   ],
   "source": [
    "plot_random_win_rates()"
   ]
  },
  {
   "cell_type": "code",
   "execution_count": 213,
   "metadata": {
    "scrolled": true
   },
   "outputs": [
    {
     "name": "stdout",
     "output_type": "stream",
     "text": [
      "      id  outcome  pick_first  agent_win\n",
      "0      0        0       False       True\n",
      "1      0        0       False       True\n",
      "2      0        0       False       True\n",
      "3      0        0       False       True\n",
      "4      0        0       False       True\n",
      "...   ..      ...         ...        ...\n",
      "2295  99        0       False       True\n",
      "2296  99        0       False       True\n",
      "2297  99        0       False       True\n",
      "2298  99        0       False       True\n",
      "2299  99        0       False       True\n",
      "\n",
      "[2300 rows x 4 columns]\n"
     ]
    },
    {
     "data": {
      "image/png": "[encoded data removed]",
      "text/plain": [
       "<Figure size 432x288 with 1 Axes>"
      ]
     },
     "metadata": {
      "needs_background": "light"
     },
     "output_type": "display_data"
    }
   ],
   "source": [
    "plot_allpick_win_rates()"
   ]
  },
  {
   "cell_type": "code",
   "execution_count": 214,
   "metadata": {
    "scrolled": true
   },
   "outputs": [
    {
     "data": {
      "image/png": "[encoded data removed]",
      "text/plain": [
       "<Figure size 432x288 with 1 Axes>"
      ]
     },
     "metadata": {
      "needs_background": "light"
     },
     "output_type": "display_data"
    }
   ],
   "source": [
    "plot_captains_mode_win_rates()"
   ]
  },
  {
   "cell_type": "code",
   "execution_count": null,
   "metadata": {},
   "outputs": [],
   "source": []
  }
 ],
 "metadata": {
  "kernelspec": {
   "display_name": "Python 3",
   "language": "python",
   "name": "python3"
  },
  "language_info": {
   "codemirror_mode": {
    "name": "ipython",
    "version": 3
   },
   "file_extension": ".py",
   "mimetype": "text/x-python",
   "name": "python",
   "nbconvert_exporter": "python",
   "pygments_lexer": "ipython3",
   "version": "3.6.9"
  }
 },
 "nbformat": 4,
 "nbformat_minor": 2
}
