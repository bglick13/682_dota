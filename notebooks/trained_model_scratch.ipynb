{
 "cells": [
  {
   "cell_type": "code",
   "execution_count": 56,
   "metadata": {},
   "outputs": [],
   "source": [
    "import os, sys\n",
    "os.chdir('C:\\\\Users\\\\Ben\\\\Documents\\\\682_project')\n",
    "import torch\n",
    "from torch.functional import F\n",
    "import pandas as pd\n",
    "import pickle\n",
    "from models.draft_bert import *\n",
    "from fuzzywuzzy import process"
   ]
  },
  {
   "cell_type": "code",
   "execution_count": 2,
   "metadata": {},
   "outputs": [],
   "source": [
    "hero_ids = pd.read_json('const/hero_ids.json', orient='records')\n",
    "hero_ids = hero_ids.set_index('id')"
   ]
  },
  {
   "cell_type": "code",
   "execution_count": 3,
   "metadata": {},
   "outputs": [],
   "source": [
    "with open('data/draft_pretrain.pkl', 'rb') as f:\n",
    "    data = pickle.load(f)\n",
    "with open('data/draft_pretrain_le.pkl', 'rb') as f:\n",
    "    le = pickle.load(f)"
   ]
  },
  {
   "cell_type": "code",
   "execution_count": 4,
   "metadata": {},
   "outputs": [],
   "source": [
    "CLS = len(le.classes_) + 1\n",
    "SEP = len(le.classes_) + 2\n",
    "MASK = len(le.classes_) + 3"
   ]
  },
  {
   "cell_type": "code",
   "execution_count": 5,
   "metadata": {},
   "outputs": [],
   "source": [
    "model = torch.load('draft_bert_pretrain_checkpoint_99999.torch')"
   ]
  },
  {
   "cell_type": "code",
   "execution_count": 11,
   "metadata": {},
   "outputs": [],
   "source": [
    "current_draft = np.array([[model.PADDING_IDX] * 10])\n",
    "current_mask = np.array([[1] + [0] * 9])"
   ]
  },
  {
   "cell_type": "code",
   "execution_count": 12,
   "metadata": {},
   "outputs": [
    {
     "data": {
      "text/plain": [
       "119"
      ]
     },
     "execution_count": 12,
     "metadata": {},
     "output_type": "execute_result"
    }
   ],
   "source": [
    "model.PADDING_IDX"
   ]
  },
  {
   "cell_type": "code",
   "execution_count": 57,
   "metadata": {},
   "outputs": [
    {
     "data": {
      "text/plain": [
       "118"
      ]
     },
     "execution_count": 57,
     "metadata": {},
     "output_type": "execute_result"
    }
   ],
   "source": [
    "CLS"
   ]
  },
  {
   "cell_type": "code",
   "execution_count": 14,
   "metadata": {},
   "outputs": [],
   "source": [
    "pred = model.predict(current_draft, current_mask, task=DraftBertTasks.DRAFT_PREDICTION)"
   ]
  },
  {
   "cell_type": "code",
   "execution_count": 142,
   "metadata": {},
   "outputs": [],
   "source": [
    "class LiveDraft:\n",
    "    def __init__(self, model, hero_ids, le):\n",
    "        self.model = model\n",
    "        self.hero_ids = hero_ids\n",
    "        self.le = le\n",
    "        \n",
    "        self.draft_order = [1, 7, 8, 2, 3, 9, 10, 4, 5, 11]\n",
    "        self.initial_draft = np.array([np.concatenate(([CLS],\n",
    "                                                       np.ones(5) * self.model.PADDING_IDX,\n",
    "                                                       [SEP],\n",
    "                                                       np.ones(5) * self.model.PADDING_IDX,\n",
    "                                                       [SEP]))])\n",
    "        self.current_pick = None\n",
    "        \n",
    "    def __str__(self):\n",
    "        print(self.initial_draft)\n",
    "        team_a = self.initial_draft[0, 1:6].copy()\n",
    "        team_a[team_a != self.model.PADDING_IDX] = self.le.inverse_transform(team_a[team_a != self.model.PADDING_IDX].astype(int))\n",
    "        team_a_names = np.array([None] * 5)\n",
    "        team_a_names[team_a != self.model.PADDING_IDX] = np.array([self.hero_ids.loc[h, 'localized_name']\n",
    "                                                                   for h in team_a[team_a != self.model.PADDING_IDX]])\n",
    "        \n",
    "        team_b = self.initial_draft[0, 7:12].copy()\n",
    "        team_b[team_b != self.model.PADDING_IDX] = self.le.inverse_transform(team_b[team_b != self.model.PADDING_IDX].astype(int))\n",
    "        team_b_names = np.array([None] * 5)\n",
    "        team_b_names[team_b != self.model.PADDING_IDX] = np.array([self.hero_ids.loc[h, 'localized_name']\n",
    "                                                                   for h in team_b[team_b != self.model.PADDING_IDX]])\n",
    "        out = f'Team A: {team_a_names}\\nTeam B: {team_b_names}'\n",
    "        return out\n",
    "        \n",
    "    def add_pick(self, hero_name, pick_number):\n",
    "        hero_id = process.extractOne(hero_name, self.hero_ids['localized_name'].values)[0]\n",
    "        hero_id = self.hero_ids.loc[self.hero_ids['localized_name'] == hero_id, :].index\n",
    "        self.initial_draft[0, self.draft_order[pick_number-1]] = self.le.transform([hero_id])\n",
    "        \n",
    "    def predict_next_pick(self, pick_number, k=5):\n",
    "        mask = np.zeros((1, 13))\n",
    "        mask[0, self.draft_order[pick_number-1]] = 1\n",
    "        pred = model.predict(self.initial_draft, mask, task=DraftBertTasks.DRAFT_PREDICTION)\n",
    "        pred = F.softmax(pred, -1).detach().cpu().numpy()[0]\n",
    "        args = np.argsort(pred)[::-1]\n",
    "        hero_names = self.le.inverse_transform(args[:k])\n",
    "        hero_names = self.hero_ids.loc[hero_names, 'localized_name'].to_frame('Hero Name')\n",
    "        hero_names['Pick Probability'] = pred[args[:k]]\n",
    "        print(hero_names)\n",
    "            \n",
    "        "
   ]
  },
  {
   "cell_type": "code",
   "execution_count": 143,
   "metadata": {},
   "outputs": [],
   "source": [
    "draft = LiveDraft(model, hero_ids, le)"
   ]
  },
  {
   "cell_type": "code",
   "execution_count": 144,
   "metadata": {},
   "outputs": [
    {
     "name": "stdout",
     "output_type": "stream",
     "text": [
      "       Hero Name  Pick Probability\n",
      "id                                \n",
      "11  Shadow Fiend          0.187220\n",
      "14         Pudge          0.062472\n",
      "35        Sniper          0.059625\n",
      "8     Juggernaut          0.046425\n",
      "34        Tinker          0.040768\n"
     ]
    }
   ],
   "source": [
    "draft.predict_next_pick(1)"
   ]
  },
  {
   "cell_type": "code",
   "execution_count": 145,
   "metadata": {},
   "outputs": [],
   "source": [
    "draft.add_pick('shadow fiend', 1)"
   ]
  },
  {
   "cell_type": "code",
   "execution_count": 148,
   "metadata": {},
   "outputs": [
    {
     "name": "stdout",
     "output_type": "stream",
     "text": [
      "[[118.  10. 119. 119. 119. 119. 119. 119. 119. 119. 119. 119. 119.]]\n",
      "Team A: ['Shadow Fiend' None None None None]\n",
      "Team B: [None None None None None]\n"
     ]
    }
   ],
   "source": [
    "print(draft)"
   ]
  },
  {
   "cell_type": "code",
   "execution_count": 149,
   "metadata": {},
   "outputs": [
    {
     "name": "stdout",
     "output_type": "stream",
     "text": [
      "         Hero Name  Pick Probability\n",
      "id                                  \n",
      "8       Juggernaut          0.095111\n",
      "14           Pudge          0.081465\n",
      "1        Anti-Mage          0.065444\n",
      "7      Earthshaker          0.052260\n",
      "5   Crystal Maiden          0.050109\n"
     ]
    }
   ],
   "source": [
    "draft.predict_next_pick(2)"
   ]
  },
  {
   "cell_type": "code",
   "execution_count": 150,
   "metadata": {},
   "outputs": [],
   "source": [
    "draft.add_pick('earthshaker', 2)"
   ]
  },
  {
   "cell_type": "code",
   "execution_count": 154,
   "metadata": {},
   "outputs": [
    {
     "name": "stdout",
     "output_type": "stream",
     "text": [
      "[[118.  10. 119. 119. 119. 119. 119.   6. 119. 119. 119. 119. 119.]]\n",
      "Team A: ['Shadow Fiend' None None None None]\n",
      "Team B: ['Earthshaker' None None None None]\n"
     ]
    }
   ],
   "source": [
    "print(draft)"
   ]
  },
  {
   "cell_type": "code",
   "execution_count": 155,
   "metadata": {},
   "outputs": [
    {
     "name": "stdout",
     "output_type": "stream",
     "text": [
      "      Hero Name  Pick Probability\n",
      "id                               \n",
      "7   Earthshaker          0.154365\n",
      "14        Pudge          0.052129\n",
      "34       Tinker          0.045430\n",
      "8    Juggernaut          0.037878\n",
      "35       Sniper          0.036820\n"
     ]
    }
   ],
   "source": [
    "draft.predict_next_pick(3)"
   ]
  },
  {
   "cell_type": "code",
   "execution_count": 156,
   "metadata": {},
   "outputs": [],
   "source": [
    "draft.add_pick('pudge', 3)"
   ]
  },
  {
   "cell_type": "code",
   "execution_count": 157,
   "metadata": {},
   "outputs": [
    {
     "name": "stdout",
     "output_type": "stream",
     "text": [
      "[[118.  10. 119. 119. 119. 119. 119.   6.  13. 119. 119. 119. 119.]]\n",
      "Team A: ['Shadow Fiend' None None None None]\n",
      "Team B: ['Earthshaker' 'Pudge' None None None]\n"
     ]
    }
   ],
   "source": [
    "print(draft)"
   ]
  },
  {
   "cell_type": "code",
   "execution_count": 159,
   "metadata": {},
   "outputs": [
    {
     "name": "stdout",
     "output_type": "stream",
     "text": [
      "        Hero Name  Pick Probability\n",
      "id                                 \n",
      "14          Pudge          0.116132\n",
      "27  Shadow Shaman          0.051448\n",
      "41  Faceless Void          0.050213\n",
      "26           Lion          0.044299\n",
      "42    Wraith King          0.036903\n"
     ]
    }
   ],
   "source": [
    "draft.predict_next_pick(5)"
   ]
  },
  {
   "cell_type": "code",
   "execution_count": null,
   "metadata": {},
   "outputs": [],
   "source": []
  },
  {
   "cell_type": "code",
   "execution_count": null,
   "metadata": {},
   "outputs": [],
   "source": []
  },
  {
   "cell_type": "code",
   "execution_count": null,
   "metadata": {},
   "outputs": [],
   "source": []
  },
  {
   "cell_type": "code",
   "execution_count": 93,
   "metadata": {},
   "outputs": [
    {
     "data": {
      "text/plain": [
       "array([11], dtype=int64)"
      ]
     },
     "execution_count": 93,
     "metadata": {},
     "output_type": "execute_result"
    }
   ],
   "source": [
    "draft.le.inverse_transform(team_a[team_a != 119].astype(int))"
   ]
  },
  {
   "cell_type": "code",
   "execution_count": 92,
   "metadata": {},
   "outputs": [
    {
     "data": {
      "text/plain": [
       "array([10.])"
      ]
     },
     "execution_count": 92,
     "metadata": {},
     "output_type": "execute_result"
    }
   ],
   "source": [
    "team_a[team_a != 119]"
   ]
  },
  {
   "cell_type": "code",
   "execution_count": 76,
   "metadata": {},
   "outputs": [
    {
     "data": {
      "text/plain": [
       "array([[118.,  10., 119., 119., 119., 119., 119., 119., 119., 119., 119.,\n",
       "        119., 119.]])"
      ]
     },
     "execution_count": 76,
     "metadata": {},
     "output_type": "execute_result"
    }
   ],
   "source": [
    "draft.initial_draft"
   ]
  },
  {
   "cell_type": "code",
   "execution_count": 163,
   "metadata": {
    "scrolled": false
   },
   "outputs": [
    {
     "name": "stdout",
     "output_type": "stream",
     "text": [
      "Pick 0\n",
      "\n",
      "Radiant: ['Pugna' None None None None]\n",
      "Dire: [None None None None None]\n",
      "\n",
      "Pick 1\n",
      "\n",
      "Radiant: ['Pugna' None None None None]\n",
      "Dire: ['Razor' None None None None]\n",
      "\n",
      "Pick 2\n",
      "\n",
      "Radiant: ['Pugna' None None None None]\n",
      "Dire: ['Razor' 'Puck' None None None]\n",
      "\n",
      "Pick 3\n",
      "\n",
      "Radiant: ['Pugna' 'Wraith King' None None None]\n",
      "Dire: ['Razor' 'Puck' None None None]\n",
      "\n",
      "Pick 4\n",
      "\n",
      "Radiant: ['Pugna' 'Wraith King' 'Phantom Assassin' None None]\n",
      "Dire: ['Razor' 'Puck' None None None]\n",
      "\n",
      "Pick 5\n",
      "\n",
      "Radiant: ['Pugna' 'Wraith King' 'Phantom Assassin' None None]\n",
      "Dire: ['Razor' 'Puck' 'Spirit Breaker' None None]\n",
      "\n",
      "Pick 6\n",
      "\n",
      "Radiant: ['Pugna' 'Wraith King' 'Phantom Assassin' None None]\n",
      "Dire: ['Razor' 'Puck' 'Spirit Breaker' 'Sniper' None]\n",
      "\n",
      "Pick 7\n",
      "\n",
      "Radiant: ['Pugna' 'Wraith King' 'Phantom Assassin' \"Nature's Prophet\" None]\n",
      "Dire: ['Razor' 'Puck' 'Spirit Breaker' 'Sniper' None]\n",
      "\n",
      "Pick 8\n",
      "\n",
      "Radiant: ['Pugna' 'Wraith King' 'Phantom Assassin' \"Nature's Prophet\" 'Lycan']\n",
      "Dire: ['Razor' 'Puck' 'Spirit Breaker' 'Sniper' None]\n",
      "\n",
      "Pick 9\n",
      "\n",
      "Radiant: ['Pugna' 'Wraith King' 'Phantom Assassin' \"Nature's Prophet\" 'Lycan']\n",
      "Dire: ['Razor' 'Puck' 'Spirit Breaker' 'Sniper' 'Techies']\n",
      "\n"
     ]
    }
   ],
   "source": [
    "draft_order = [1, 7, 8, 2, 3, 9, 10, 4, 5, 11]\n",
    "initial_draft = np.array([np.concatenate(([CLS], np.ones(5) * model.PADDING_IDX, [SEP], np.ones(5) * model.PADDING_IDX, [SEP]))])\n",
    "done = []\n",
    "for i, pick in enumerate(draft_order):\n",
    "    mask = np.zeros((1, 13))\n",
    "    mask[0, pick] = 1\n",
    "    pred = model.predict(initial_draft, mask, task=DraftBertTasks.DRAFT_PREDICTION)\n",
    "    # Randomly sample from predictions\n",
    "    pred = F.softmax(pred, -1).detach().cpu().numpy()\n",
    "    picked_hero = np.random.choice(range(pred.shape[1]), p=pred[0])\n",
    "    while picked_hero in initial_draft:\n",
    "        picked_hero = np.random.choice(range(pred.shape[1]), p=pred[0])\n",
    "    initial_draft[0, pick] = picked_hero\n",
    "    done.append(pick)\n",
    "    print(f'Pick {i}\\n')\n",
    "    transformed = initial_draft[0, :].astype(int)\n",
    "    transformed[done] = le.inverse_transform(transformed[done])\n",
    "    transformed_names = np.array([None] * len(transformed))\n",
    "    transformed_names[done] = np.array([hero_ids.loc[h, 'localized_name'] for h in transformed[done]])\n",
    "    print(f'Radiant: {transformed_names[1:6]}')\n",
    "    print(f'Dire: {transformed_names[7:12]}\\n')"
   ]
  },
  {
   "cell_type": "code",
   "execution_count": 55,
   "metadata": {},
   "outputs": [
    {
     "data": {
      "text/plain": [
       "array([118,  34,   8,  27,  42,  93, 119,  10,  14,  32,  57, 101, 119])"
      ]
     },
     "execution_count": 55,
     "metadata": {},
     "output_type": "execute_result"
    }
   ],
   "source": [
    "transformed"
   ]
  },
  {
   "cell_type": "code",
   "execution_count": 60,
   "metadata": {},
   "outputs": [],
   "source": [
    "pred = model.predict(initial_draft, mask, task=DraftBertTasks.DRAFT_PREDICTION)"
   ]
  },
  {
   "cell_type": "code",
   "execution_count": 56,
   "metadata": {},
   "outputs": [
    {
     "data": {
      "text/plain": [
       "79"
      ]
     },
     "execution_count": 56,
     "metadata": {},
     "output_type": "execute_result"
    }
   ],
   "source": [
    "np.random.choice(range(pred.shape[1]), p=F.softmax(pred, -1).detach().cpu().numpy()[0])"
   ]
  },
  {
   "cell_type": "code",
   "execution_count": 69,
   "metadata": {},
   "outputs": [
    {
     "data": {
      "text/plain": [
       "array([  2,  74,  81, 104, 111,   4,  16,  44,  72, 114], dtype=int64)"
      ]
     },
     "execution_count": 69,
     "metadata": {},
     "output_type": "execute_result"
    }
   ],
   "source": [
    "transformed"
   ]
  },
  {
   "cell_type": "code",
   "execution_count": 70,
   "metadata": {},
   "outputs": [],
   "source": [
    "from itertools import product, permutations"
   ]
  },
  {
   "cell_type": "code",
   "execution_count": 71,
   "metadata": {},
   "outputs": [],
   "source": [
    "r = transformed[:5]\n",
    "d = transformed[5:]"
   ]
  },
  {
   "cell_type": "code",
   "execution_count": 74,
   "metadata": {
    "scrolled": true
   },
   "outputs": [
    {
     "data": {
      "text/plain": [
       "14400"
      ]
     },
     "execution_count": 74,
     "metadata": {},
     "output_type": "execute_result"
    }
   ],
   "source": [
    "len(list(product(permutations(r), permutations(d))))"
   ]
  },
  {
   "cell_type": "code",
   "execution_count": null,
   "metadata": {},
   "outputs": [],
   "source": []
  }
 ],
 "metadata": {
  "kernelspec": {
   "display_name": "Python 3",
   "language": "python",
   "name": "python3"
  },
  "language_info": {
   "codemirror_mode": {
    "name": "ipython",
    "version": 3
   },
   "file_extension": ".py",
   "mimetype": "text/x-python",
   "name": "python",
   "nbconvert_exporter": "python",
   "pygments_lexer": "ipython3",
   "version": "3.6.9"
  }
 },
 "nbformat": 4,
 "nbformat_minor": 2
}
