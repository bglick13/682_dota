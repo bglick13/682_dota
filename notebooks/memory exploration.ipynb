{
 "cells": [
  {
   "cell_type": "code",
   "execution_count": 2,
   "metadata": {},
   "outputs": [],
   "source": [
    "import pandas as pd\n",
    "import pickle\n",
    "import matplotlib.pyplot as plt\n",
    "import os, sys\n",
    "%matplotlib inline"
   ]
  },
  {
   "cell_type": "code",
   "execution_count": 5,
   "metadata": {},
   "outputs": [],
   "source": [
    "os.getcwd()\n",
    "os.chdir('C:\\\\Users\\\\Ben\\\\Documents\\\\682_project')"
   ]
  },
  {
   "cell_type": "code",
   "execution_count": 6,
   "metadata": {},
   "outputs": [],
   "source": [
    "with open('data/self_play/memory.pickle', 'rb') as f:\n",
    "    mem = pickle.load(f)"
   ]
  },
  {
   "cell_type": "code",
   "execution_count": 9,
   "metadata": {},
   "outputs": [],
   "source": [
    "actions, states, reward = mem[0]"
   ]
  },
  {
   "cell_type": "code",
   "execution_count": 11,
   "metadata": {},
   "outputs": [
    {
     "name": "stdout",
     "output_type": "stream",
     "text": [
      "Radiant Bans:\n",
      "16           Bloodseeker\n",
      "66          Chaos Knight\n",
      "77        Spirit Breaker\n",
      "78      Treant Protector\n",
      "88     Centaur Warrunner\n",
      "115           Juggernaut\n",
      "Name: localized_name, dtype: object\n",
      "Dire Bans\n",
      "5     Phantom Lancer\n",
      "14             Viper\n",
      "17    Crystal Maiden\n",
      "24        Venomancer\n",
      "84                Io\n",
      "86            Medusa\n",
      "Name: localized_name, dtype: object\n",
      "Radiant\n",
      "36          Tinker\n",
      "46     Lifestealer\n",
      "79       Ogre Magi\n",
      "111        Undying\n",
      "112      Anti-Mage\n",
      "Name: localized_name, dtype: object\n",
      "Dire\n",
      "30            Pudge\n",
      "33     Storm Spirit\n",
      "35             Riki\n",
      "71         Batrider\n",
      "117            None\n",
      "Name: localized_name, dtype: object\n"
     ]
    }
   ],
   "source": [
    "print(states[-1])"
   ]
  },
  {
   "cell_type": "code",
   "execution_count": 12,
   "metadata": {},
   "outputs": [
    {
     "data": {
      "text/plain": [
       "array([86.,  3., 35., 55., 85.])"
      ]
     },
     "execution_count": 12,
     "metadata": {},
     "output_type": "execute_result"
    }
   ],
   "source": [
    "states[-1].radiant"
   ]
  },
  {
   "cell_type": "code",
   "execution_count": 13,
   "metadata": {},
   "outputs": [
    {
     "data": {
      "text/plain": [
       "array([33., 19., 16., 66.,  2.])"
      ]
     },
     "execution_count": 13,
     "metadata": {},
     "output_type": "execute_result"
    }
   ],
   "source": [
    "states[-1].dire"
   ]
  },
  {
   "cell_type": "code",
   "execution_count": 14,
   "metadata": {},
   "outputs": [
    {
     "data": {
      "text/plain": [
       "[6,\n",
       " 14,\n",
       " 72,\n",
       " 48,\n",
       " 10,\n",
       " 41,\n",
       " 86,\n",
       " 33,\n",
       " 3,\n",
       " 19,\n",
       " 82,\n",
       " 95,\n",
       " 97,\n",
       " 92,\n",
       " 35,\n",
       " 16,\n",
       " 55,\n",
       " 66,\n",
       " 84,\n",
       " 7,\n",
       " 85,\n",
       " 69]"
      ]
     },
     "execution_count": 14,
     "metadata": {},
     "output_type": "execute_result"
    }
   ],
   "source": [
    "actions"
   ]
  },
  {
   "cell_type": "code",
   "execution_count": null,
   "metadata": {},
   "outputs": [],
   "source": []
  }
 ],
 "metadata": {
  "kernelspec": {
   "display_name": "Python 3",
   "language": "python",
   "name": "python3"
  },
  "language_info": {
   "codemirror_mode": {
    "name": "ipython",
    "version": 3
   },
   "file_extension": ".py",
   "mimetype": "text/x-python",
   "name": "python",
   "nbconvert_exporter": "python",
   "pygments_lexer": "ipython3",
   "version": "3.6.9"
  }
 },
 "nbformat": 4,
 "nbformat_minor": 2
}
